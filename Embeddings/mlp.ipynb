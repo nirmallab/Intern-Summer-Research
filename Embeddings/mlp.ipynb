{
 "cells": [
  {
   "cell_type": "code",
   "execution_count": null,
   "metadata": {},
   "outputs": [],
   "source": [
    "import torch\n",
    "import torch.nn as nn\n",
    "\n",
    "\n",
    "class MLP(nn.Module):\n",
    "    \"\"\"\n",
    "    Multi-layer Perceptron (MLP) - Feedforward Neural Network Model\n",
    "\n",
    "    This model is composed of multiple fully connected (Linear) layers followed by non-linear activation functions\n",
    "    and dropout layers to reduce overfitting. The final layer is the output layer, which returns logits and class\n",
    "    probabilities.\n",
    "\n",
    "    Arguments:\n",
    "        input_dim (int): number of input features\n",
    "        hidden_dim (int): number of hidden units in each fully connected layer\n",
    "        num_classes (int): number of classes in the classification task\n",
    "        dropout (float): dropout rate applied after each fully connected layer\n",
    "\n",
    "    \"\"\"\n",
    "    def __init__(self, input_dim=1024, hidden_dim=512, num_classes=16, dropout=0.10):\n",
    "        super(MLP, self).__init__()  # Inherited from the parent class nn.Module\n",
    "        self.fc = nn.Sequential(\n",
    "            nn.Linear(input_dim, hidden_dim),\n",
    "            nn.ReLU(),\n",
    "            nn.Dropout(p=dropout),\n",
    "            nn.Linear(hidden_dim, hidden_dim),\n",
    "            nn.ReLU(),\n",
    "            nn.Dropout(p=dropout),\n",
    "            nn.Linear(hidden_dim, hidden_dim),\n",
    "            nn.ReLU(),\n",
    "            nn.Dropout(p=dropout),\n",
    "            nn.Linear(hidden_dim, hidden_dim),\n",
    "            nn.ReLU(),\n",
    "            nn.Dropout(p=dropout)\n",
    "        )\n",
    "        self.classifier = nn.Linear(hidden_dim, num_classes)\n",
    "\n",
    "    def forward(self, batch):\n",
    "        \"\"\"\n",
    "        Forward Propagation of the MLP Model\n",
    "       \"\"\"\n",
    "        features = self.fc(batch)\n",
    "        logits = self.classifier(features)\n",
    "        probs = torch.softmax(logits, dim=-1)\n",
    "        return probs"
   ]
  },
  {
   "cell_type": "code",
   "execution_count": null,
   "metadata": {},
   "outputs": [],
   "source": [
    "device = \"cpu\"\n",
    "if (torch.cuda.is_available()):\n",
    "  device = \"cuda\"\n",
    "print(\"device: \" + device)"
   ]
  }
 ],
 "metadata": {
  "language_info": {
   "name": "python"
  }
 },
 "nbformat": 4,
 "nbformat_minor": 2
}
