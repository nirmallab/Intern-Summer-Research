{
 "cells": [
  {
   "cell_type": "code",
   "execution_count": 1,
   "metadata": {},
   "outputs": [],
   "source": [
    "import os\n",
    "os.chdir(r\"\\Users\\youyo\\Desktop\\research\\CRC02\")"
   ]
  },
  {
   "cell_type": "code",
   "execution_count": 2,
   "metadata": {},
   "outputs": [],
   "source": [
    "import pandas as pd\n",
    "\n",
    "df = pd.read_csv('phenotype.csv') # read the csv file\n",
    "\n"
   ]
  },
  {
   "cell_type": "code",
   "execution_count": 3,
   "metadata": {},
   "outputs": [
    {
     "data": {
      "text/html": [
       "<div>\n",
       "<style scoped>\n",
       "    .dataframe tbody tr th:only-of-type {\n",
       "        vertical-align: middle;\n",
       "    }\n",
       "\n",
       "    .dataframe tbody tr th {\n",
       "        vertical-align: top;\n",
       "    }\n",
       "\n",
       "    .dataframe thead th {\n",
       "        text-align: right;\n",
       "    }\n",
       "</style>\n",
       "<table border=\"1\" class=\"dataframe\">\n",
       "  <thead>\n",
       "    <tr style=\"text-align: right;\">\n",
       "      <th></th>\n",
       "      <th>X_centroid</th>\n",
       "      <th>Y_centroid</th>\n",
       "      <th>manual_leiden_edges_necrosis_muscle</th>\n",
       "    </tr>\n",
       "  </thead>\n",
       "  <tbody>\n",
       "    <tr>\n",
       "      <th>0</th>\n",
       "      <td>19407.460317</td>\n",
       "      <td>818.736508</td>\n",
       "      <td>edges</td>\n",
       "    </tr>\n",
       "    <tr>\n",
       "      <th>1</th>\n",
       "      <td>19335.283727</td>\n",
       "      <td>825.810848</td>\n",
       "      <td>edges</td>\n",
       "    </tr>\n",
       "    <tr>\n",
       "      <th>2</th>\n",
       "      <td>19085.623568</td>\n",
       "      <td>833.024550</td>\n",
       "      <td>edges</td>\n",
       "    </tr>\n",
       "    <tr>\n",
       "      <th>3</th>\n",
       "      <td>19357.138060</td>\n",
       "      <td>833.358209</td>\n",
       "      <td>edges</td>\n",
       "    </tr>\n",
       "    <tr>\n",
       "      <th>4</th>\n",
       "      <td>19296.168539</td>\n",
       "      <td>835.778090</td>\n",
       "      <td>edges</td>\n",
       "    </tr>\n",
       "  </tbody>\n",
       "</table>\n",
       "</div>"
      ],
      "text/plain": [
       "     X_centroid  Y_centroid manual_leiden_edges_necrosis_muscle\n",
       "0  19407.460317  818.736508                               edges\n",
       "1  19335.283727  825.810848                               edges\n",
       "2  19085.623568  833.024550                               edges\n",
       "3  19357.138060  833.358209                               edges\n",
       "4  19296.168539  835.778090                               edges"
      ]
     },
     "execution_count": 3,
     "metadata": {},
     "output_type": "execute_result"
    }
   ],
   "source": [
    "useful_data = df[[\"X_centroid\", \"Y_centroid\",\"manual_leiden_edges_necrosis_muscle\"]] # select the columns that we need\n",
    "useful_data.head()"
   ]
  },
  {
   "cell_type": "code",
   "execution_count": null,
   "metadata": {},
   "outputs": [],
   "source": [
    "useful_data = useful_data[useful_data.manual_leiden_edges_necrosis_muscle != \"edges\"] # remove the rows that are not useful"
   ]
  },
  {
   "cell_type": "code",
   "execution_count": null,
   "metadata": {},
   "outputs": [],
   "source": [
    "useful_data = useful_data[useful_data.manual_leiden_edges_necrosis_muscle != \"excluded\"] # remove the rows that are not useful"
   ]
  },
  {
   "cell_type": "code",
   "execution_count": null,
   "metadata": {},
   "outputs": [],
   "source": [
    "useful_data = useful_data[useful_data.manual_leiden_edges_necrosis_muscle != \"other immune cells\"] # remove the rows that are not useful"
   ]
  },
  {
   "cell_type": "code",
   "execution_count": 4,
   "metadata": {},
   "outputs": [
    {
     "data": {
      "text/plain": [
       "array(['edges', 'ECAD+ cells', 'KI67+ECAD+ cells', 'excluded',\n",
       "       'CD4 T cells', 'other immune cells', 'CD68+', 'Endothelial cells',\n",
       "       'T regs', 'necrotic', 'ASMA+ cells', 'CD68+CD163+', 'CD8 T',\n",
       "       'CD163+', 'B cells', 'muscle'], dtype=object)"
      ]
     },
     "execution_count": 4,
     "metadata": {},
     "output_type": "execute_result"
    }
   ],
   "source": [
    "useful_data.manual_leiden_edges_necrosis_muscle.unique()"
   ]
  },
  {
   "cell_type": "code",
   "execution_count": null,
   "metadata": {},
   "outputs": [],
   "source": [
    "useful_data.manual_leiden_edges_necrosis_muscle.value_counts() # count the number of each cell type"
   ]
  },
  {
   "cell_type": "code",
   "execution_count": null,
   "metadata": {},
   "outputs": [],
   "source": [
    "mapping =  dict((v, i) for i, v in enumerate(useful_data.manual_leiden_edges_necrosis_muscle.unique()))\n",
    "mapping"
   ]
  },
  {
   "cell_type": "code",
   "execution_count": null,
   "metadata": {},
   "outputs": [],
   "source": [
    "useful_data['manual_leiden_edges_necrosis_muscle'] = useful_data['manual_leiden_edges_necrosis_muscle'].map(mapping)\n",
    "useful_data.head()"
   ]
  },
  {
   "cell_type": "code",
   "execution_count": null,
   "metadata": {},
   "outputs": [],
   "source": [
    "useful_data.reset_index(drop=True, inplace=True)"
   ]
  },
  {
   "cell_type": "code",
   "execution_count": null,
   "metadata": {},
   "outputs": [],
   "source": [
    "useful_data.manual_leiden_edges_necrosis_muscle.value_counts()"
   ]
  },
  {
   "cell_type": "code",
   "execution_count": null,
   "metadata": {},
   "outputs": [],
   "source": [
    "df_0 = useful_data[useful_data.manual_leiden_edges_necrosis_muscle == 0]\n",
    "df_1 = useful_data[useful_data.manual_leiden_edges_necrosis_muscle == 1]\n",
    "df_7 = useful_data[useful_data.manual_leiden_edges_necrosis_muscle == 7]\n",
    "df_12 = useful_data[useful_data.manual_leiden_edges_necrosis_muscle == 12]\n",
    "df_6 = useful_data[useful_data.manual_leiden_edges_necrosis_muscle == 6]\n",
    "df_3 = useful_data[useful_data.manual_leiden_edges_necrosis_muscle == 3]\n",
    "len(df_0), len(df_1), len(df_7), len(df_12), len(df_6), len(df_3)"
   ]
  },
  {
   "cell_type": "code",
   "execution_count": null,
   "metadata": {},
   "outputs": [],
   "source": [
    "df_2 = useful_data[useful_data.manual_leiden_edges_necrosis_muscle == 2]\n",
    "df_4 = useful_data[useful_data.manual_leiden_edges_necrosis_muscle == 4]\n",
    "df_5 = useful_data[useful_data.manual_leiden_edges_necrosis_muscle == 5]\n",
    "df_8 = useful_data[useful_data.manual_leiden_edges_necrosis_muscle == 8]\n",
    "df_9 = useful_data[useful_data.manual_leiden_edges_necrosis_muscle == 9]\n",
    "df_10 = useful_data[useful_data.manual_leiden_edges_necrosis_muscle == 10]\n",
    "df_11 = useful_data[useful_data.manual_leiden_edges_necrosis_muscle == 11]\n",
    "len(df_2), len(df_4), len(df_5), len(df_8), len(df_9), len(df_10), len(df_11)"
   ]
  },
  {
   "cell_type": "code",
   "execution_count": null,
   "metadata": {},
   "outputs": [],
   "source": [
    "seed = 10\n",
    "sample_size = 25000\n",
    "selected_0_rows = df_0.sample(n=sample_size, random_state=seed)\n",
    "selected_1_rows = df_1.sample(n=sample_size, random_state=seed)\n",
    "selected_7_rows = df_7.sample(n=sample_size, random_state=seed)\n",
    "selected_12_rows = df_12.sample(n=sample_size, random_state=seed)\n",
    "selected_6_rows = df_6.sample(n=sample_size, random_state=seed)\n",
    "selected_3_rows = df_3.sample(n=sample_size, random_state=seed)\n",
    "len(selected_0_rows), len(selected_1_rows), len(selected_7_rows), len(selected_12_rows), len(selected_6_rows), len(selected_3_rows)"
   ]
  },
  {
   "cell_type": "code",
   "execution_count": null,
   "metadata": {},
   "outputs": [],
   "source": [
    "smaller_data = pd.concat([selected_0_rows, selected_1_rows, selected_7_rows, selected_12_rows, selected_6_rows, selected_3_rows, df_2, df_4, df_5, df_8, df_9, df_10, df_11]).reset_index(drop=True)"
   ]
  },
  {
   "cell_type": "code",
   "execution_count": null,
   "metadata": {},
   "outputs": [],
   "source": [
    "smaller_data"
   ]
  },
  {
   "cell_type": "code",
   "execution_count": null,
   "metadata": {},
   "outputs": [],
   "source": [
    "smaller_data.manual_leiden_edges_necrosis_muscle.value_counts()"
   ]
  },
  {
   "cell_type": "code",
   "execution_count": null,
   "metadata": {},
   "outputs": [],
   "source": [
    "labels = smaller_data[\"manual_leiden_edges_necrosis_muscle\"].to_numpy() # get the labels"
   ]
  },
  {
   "cell_type": "code",
   "execution_count": null,
   "metadata": {},
   "outputs": [],
   "source": [
    "len(labels)"
   ]
  },
  {
   "cell_type": "code",
   "execution_count": null,
   "metadata": {},
   "outputs": [],
   "source": [
    "smaller_data"
   ]
  },
  {
   "cell_type": "code",
   "execution_count": null,
   "metadata": {},
   "outputs": [],
   "source": [
    "import tifffile as tiff\n",
    "import numpy as np\n",
    "import matplotlib.pyplot as plt\n",
    "\n",
    "image = tiff.imread('necrosis_muscle.tif') # read the image and becomes a numpy array\n",
    "image.shape # check the shape of the image"
   ]
  },
  {
   "cell_type": "code",
   "execution_count": null,
   "metadata": {},
   "outputs": [],
   "source": [
    "image = image.transpose((1, 2, 0)) # change the shape of the image to (height, width, channel)\n",
    "image.shape"
   ]
  },
  {
   "cell_type": "code",
   "execution_count": null,
   "metadata": {},
   "outputs": [],
   "source": [
    "def get_cell_boundaries(x_cent, y_cent, windowSize): # function to get the cell boundaries\n",
    "    x_start = max(int(x_cent - windowSize // 2),0)\n",
    "    x_end = min(x_start + windowSize, image.shape[1]) # get the x boundaries\n",
    "    x_pair = (x_start, x_end)\n",
    "\n",
    "    y_start = max(int(y_cent - windowSize // 2),0)\n",
    "    y_end = min(y_start + windowSize, image.shape[0]) # get the y boundaries\n",
    "    y_pair = (y_start, y_end)\n",
    "    return x_pair, y_pair"
   ]
  },
  {
   "cell_type": "code",
   "execution_count": null,
   "metadata": {},
   "outputs": [],
   "source": [
    "import tensorflow as tf\n",
    "list_of_images = [] # list to store the images\n",
    "for index, row in smaller_data.iterrows(): # iterate through the rows\n",
    "    x_pair, y_pair = get_cell_boundaries(row[\"X_centroid\"], row[\"Y_centroid\"], 64) # call the function to get the cell boundaries\n",
    "    x_start, x_end = x_pair # get the x boundaries\n",
    "    y_start, y_end = y_pair # get the y boundaries\n",
    "    crop = image[y_start:y_end, x_start:x_end] # crop the image\n",
    "    \n",
    "    if crop.shape != (64, 64, 3):\n",
    "        # pad the image with zeros to make it 64x64\n",
    "        image_tensor = tf.convert_to_tensor(crop)\n",
    "        padded_image_tensor = tf.image.resize_with_pad(image_tensor, 64, 64)\n",
    "        padded_image = padded_image_tensor.numpy()\n",
    "        list_of_images.append(padded_image) # append the padded image to the list\n",
    "    else:\n",
    "        list_of_images.append(crop) # append the cropped image to the list\n",
    "        \n",
    "converted_images = np.array(list_of_images) # convert the list to a numpy array\n",
    "#check type\n",
    "# converted_images = converted_images.astype(np.uint8) # convert the data type to uint8\n"
   ]
  },
  {
   "cell_type": "code",
   "execution_count": null,
   "metadata": {},
   "outputs": [],
   "source": [
    "import h5py\n",
    "\n",
    "with h5py.File('medium.h5', 'w') as f: # create a h5 file\n",
    "    f.create_dataset('images', data=converted_images) # store the images\n",
    "    f.create_dataset('labels', data=labels) # store the labels"
   ]
  }
 ],
 "metadata": {
  "kernelspec": {
   "display_name": "base",
   "language": "python",
   "name": "python3"
  },
  "language_info": {
   "codemirror_mode": {
    "name": "ipython",
    "version": 3
   },
   "file_extension": ".py",
   "mimetype": "text/x-python",
   "name": "python",
   "nbconvert_exporter": "python",
   "pygments_lexer": "ipython3",
   "version": "3.11.7"
  }
 },
 "nbformat": 4,
 "nbformat_minor": 2
}
