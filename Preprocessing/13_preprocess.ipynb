{
 "cells": [
  {
   "cell_type": "code",
   "execution_count": null,
   "metadata": {},
   "outputs": [],
   "source": [
    "import pandas as pd\n",
    "\n",
    "df = pd.read_csv('phenotype.csv') # read the csv file"
   ]
  },
  {
   "cell_type": "code",
   "execution_count": null,
   "metadata": {},
   "outputs": [],
   "source": [
    "useful_data = df[[\"X_centroid\", \"Y_centroid\",\"manual_leiden_edges_necrosis_muscle\"]] # select the columns that we need\n",
    "useful_data.head()"
   ]
  },
  {
   "cell_type": "code",
   "execution_count": null,
   "metadata": {},
   "outputs": [],
   "source": [
    "useful_data = useful_data[useful_data.manual_leiden_edges_necrosis_muscle != \"edges\"] # remove the rows that are not useful\n"
   ]
  },
  {
   "cell_type": "code",
   "execution_count": null,
   "metadata": {},
   "outputs": [],
   "source": [
    "useful_data = useful_data[useful_data.manual_leiden_edges_necrosis_muscle != \"other immune cells\"] # remove the rows that are not useful"
   ]
  },
  {
   "cell_type": "code",
   "execution_count": null,
   "metadata": {},
   "outputs": [],
   "source": [
    "useful_data = useful_data[useful_data.manual_leiden_edges_necrosis_muscle != \"excluded\"] # remove the rows that are not useful"
   ]
  },
  {
   "cell_type": "code",
   "execution_count": null,
   "metadata": {},
   "outputs": [],
   "source": [
    "useful_data.manual_leiden_edges_necrosis_muscle.unique()"
   ]
  },
  {
   "cell_type": "code",
   "execution_count": null,
   "metadata": {},
   "outputs": [],
   "source": [
    "mapping =  dict((v, i) for i, v in enumerate(useful_data.manual_leiden_edges_necrosis_muscle.unique())) # create a dictionary to map the cell type to a number\n",
    "mapping"
   ]
  },
  {
   "cell_type": "code",
   "execution_count": null,
   "metadata": {},
   "outputs": [],
   "source": [
    "useful_data.head()"
   ]
  },
  {
   "cell_type": "code",
   "execution_count": null,
   "metadata": {},
   "outputs": [],
   "source": [
    "useful_data['manual_leiden_edges_necrosis_muscle'] = useful_data['manual_leiden_edges_necrosis_muscle'].map(mapping) # map the cell type to a number\n",
    "useful_data.head()"
   ]
  },
  {
   "cell_type": "code",
   "execution_count": null,
   "metadata": {},
   "outputs": [],
   "source": [
    "useful_data.reset_index(drop=True, inplace=True) # reset the index"
   ]
  },
  {
   "cell_type": "code",
   "execution_count": null,
   "metadata": {},
   "outputs": [],
   "source": [
    "useful_data"
   ]
  },
  {
   "cell_type": "code",
   "execution_count": null,
   "metadata": {},
   "outputs": [],
   "source": [
    "useful_data['manual_leiden_edges_necrosis_muscle'].value_counts() # count the number of each cell type"
   ]
  },
  {
   "cell_type": "code",
   "execution_count": null,
   "metadata": {},
   "outputs": [],
   "source": [
    "import tifffile as tiff\n",
    "import numpy as np\n",
    "import matplotlib.pyplot as plt\n",
    "\n",
    "image = tiff.imread('necrosis_muscle.tif') # read the image and becomes a numpy array\n",
    "image.shape # check the shape of the image"
   ]
  },
  {
   "cell_type": "code",
   "execution_count": null,
   "metadata": {},
   "outputs": [],
   "source": [
    "image = image.transpose((1, 2, 0)) # change the shape of the image to (height, width, channel)\n",
    "image.shape"
   ]
  },
  {
   "cell_type": "code",
   "execution_count": null,
   "metadata": {},
   "outputs": [],
   "source": [
    "#display the image\n",
    "\n",
    "# plt.imshow(image)\n",
    "# plt.axis('off')  # Hide the axis\n",
    "# plt.show()"
   ]
  },
  {
   "cell_type": "code",
   "execution_count": null,
   "metadata": {},
   "outputs": [],
   "source": [
    "def get_cell_boundaries(x_cent, y_cent, windowSize): # function to get the cell boundaries\n",
    "    x_start = max(int(x_cent - windowSize // 2),0)\n",
    "    x_end = min(x_start + windowSize, image.shape[1]) # get the x boundaries\n",
    "    x_pair = (x_start, x_end)\n",
    "\n",
    "    y_start = max(int(y_cent - windowSize // 2),0)\n",
    "    y_end = min(y_start + windowSize, image.shape[0]) # get the y boundaries\n",
    "    y_pair = (y_start, y_end)\n",
    "    return x_pair, y_pair"
   ]
  },
  {
   "cell_type": "code",
   "execution_count": null,
   "metadata": {},
   "outputs": [],
   "source": [
    "size = 64 # size of the image\n",
    "import tensorflow as tf\n",
    "list_of_images = [] # list to store the images\n",
    "converted_images = [] # list to store the converted images\n",
    "\n",
    "for index, row in useful_data.iterrows(): # iterate through the rows\n",
    "    x_pair, y_pair = get_cell_boundaries(row[\"X_centroid\"], row[\"Y_centroid\"], size) # call the function to get the cell boundaries\n",
    "    x_start, x_end = x_pair # get the x boundaries\n",
    "    y_start, y_end = y_pair # get the y boundaries\n",
    "    crop = image[y_start:y_end, x_start:x_end] # crop the image\n",
    "    \n",
    "    if crop.shape != (size, size, 3):\n",
    "        # pad the image with zeros to make it size x size\n",
    "        image_tensor = tf.convert_to_tensor(crop)\n",
    "        padded_image_tensor = tf.image.resize_with_pad(image_tensor, size, size)\n",
    "        padded_image = padded_image_tensor.numpy()\n",
    "        list_of_images.append(padded_image) # append the padded image to the list\n",
    "    else:\n",
    "        list_of_images.append(crop) # append the cropped image to the list\n",
    "        \n",
    "converted_images = np.array(list_of_images) # convert the list to a numpy array\n",
    "converted_images = converted_images.astype(np.uint8) # convert the data type to uint8\n"
   ]
  },
  {
   "cell_type": "code",
   "execution_count": null,
   "metadata": {},
   "outputs": [],
   "source": [
    "labels = useful_data[\"simplified_leiden\"].to_numpy() # get the labels"
   ]
  },
  {
   "cell_type": "code",
   "execution_count": null,
   "metadata": {},
   "outputs": [],
   "source": [
    "import h5py\n",
    "\n",
    "with h5py.File('13.h5', 'w') as f: # create a h5 file\n",
    "    f.create_dataset('images', data=converted_images) # store the images\n",
    "    f.create_dataset('labels', data=labels) # store the labels"
   ]
  }
 ],
 "metadata": {
  "kernelspec": {
   "display_name": "base",
   "language": "python",
   "name": "python3"
  },
  "language_info": {
   "codemirror_mode": {
    "name": "ipython",
    "version": 3
   },
   "file_extension": ".py",
   "mimetype": "text/x-python",
   "name": "python",
   "nbconvert_exporter": "python",
   "pygments_lexer": "ipython3",
   "version": "3.11.7"
  }
 },
 "nbformat": 4,
 "nbformat_minor": 2
}
