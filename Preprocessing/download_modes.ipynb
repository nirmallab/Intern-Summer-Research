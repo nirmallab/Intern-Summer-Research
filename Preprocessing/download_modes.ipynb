{
 "cells": [
  {
   "cell_type": "code",
   "execution_count": null,
   "metadata": {},
   "outputs": [],
   "source": [
    "import os\n",
    "import torch\n",
    "from torchvision import transforms\n",
    "import timm\n",
    "from huggingface_hub import login, hf_hub_download\n",
    "\n",
    "login()  # login with your User Access Token, found at https://huggingface.co/settings/tokens\n",
    "\n",
    "local_dir = \"./mahmood/weights\"\n",
    "os.makedirs(local_dir, exist_ok=True)  # create directory if it does not exist\n",
    "hf_hub_download(\"MahmoodLab/UNI\", filename=\"pytorch_model.bin\", local_dir=local_dir, force_download=True)"
   ]
  },
  {
   "cell_type": "code",
   "execution_count": null,
   "metadata": {},
   "outputs": [],
   "source": [
    "import os\n",
    "import torch\n",
    "from torchvision import transforms\n",
    "import timm\n",
    "from huggingface_hub import login, hf_hub_download\n",
    "\n",
    "login()  # login with your User Access Token, found at https://huggingface.co/settings/tokens\n",
    "\n",
    "local_dir = \"./microsoft/weights\"\n",
    "os.makedirs(local_dir, exist_ok=True)  # create directory if it does not exist\n",
    "hf_hub_download(\"prov-gigapath/prov-gigapath\", filename=\"pytorch_model.bin\", local_dir=local_dir, force_download=True)"
   ]
  },
  {
   "cell_type": "code",
   "execution_count": null,
   "metadata": {},
   "outputs": [],
   "source": [
    "from transformers import ViTForImageClassification, TrainingArguments, Trainer\n",
    "\n",
    "model_name = \"google/vit-base-patch16-224-in21k\"\n",
    "\n",
    "n_classes = 13 #number of classes\n",
    "\n",
    "# Load the ViT model pre-trained on ImageNet-21k\n",
    "model = ViTForImageClassification.from_pretrained(model_name, num_labels=n_classes)\n",
    "\n",
    "save_directory = \"./vit-13\"\n",
    "\n",
    "model.save_pretrained(save_directory)"
   ]
  }
 ],
 "metadata": {
  "language_info": {
   "name": "python"
  }
 },
 "nbformat": 4,
 "nbformat_minor": 2
}
